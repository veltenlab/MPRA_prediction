{
 "cells": [
  {
   "cell_type": "code",
   "execution_count": 1,
   "id": "2c1f9e21",
   "metadata": {},
   "outputs": [
    {
     "name": "stderr",
     "output_type": "stream",
     "text": [
      "2023-10-05 11:18:19.713236: I tensorflow/core/util/port.cc:111] oneDNN custom operations are on. You may see slightly different numerical results due to floating-point round-off errors from different computation orders. To turn them off, set the environment variable `TF_ENABLE_ONEDNN_OPTS=0`.\n",
      "2023-10-05 11:18:19.744832: E tensorflow/compiler/xla/stream_executor/cuda/cuda_dnn.cc:9342] Unable to register cuDNN factory: Attempting to register factory for plugin cuDNN when one has already been registered\n",
      "2023-10-05 11:18:19.744867: E tensorflow/compiler/xla/stream_executor/cuda/cuda_fft.cc:609] Unable to register cuFFT factory: Attempting to register factory for plugin cuFFT when one has already been registered\n",
      "2023-10-05 11:18:19.744887: E tensorflow/compiler/xla/stream_executor/cuda/cuda_blas.cc:1518] Unable to register cuBLAS factory: Attempting to register factory for plugin cuBLAS when one has already been registered\n",
      "2023-10-05 11:18:19.751203: I tensorflow/core/platform/cpu_feature_guard.cc:182] This TensorFlow binary is optimized to use available CPU instructions in performance-critical operations.\n",
      "To enable the following instructions: AVX2 AVX512F AVX512_VNNI FMA, in other operations, rebuild TensorFlow with the appropriate compiler flags.\n",
      "2023-10-05 11:18:21.410081: I tensorflow/core/common_runtime/gpu/gpu_device.cc:1886] Created device /job:localhost/replica:0/task:0/device:GPU:0 with 21317 MB memory:  -> device: 0, name: NVIDIA GeForce RTX 3090, pci bus id: 0000:21:00.0, compute capability: 8.6\n"
     ]
    }
   ],
   "source": [
    "import os \n",
    "import getopt\n",
    "import sys\n",
    "\n",
    "import numpy as np\n",
    "import h5py\n",
    "import pickle\n",
    "import random\n",
    "import copy\n",
    "import pandas as pd\n",
    "\n",
    "from tensorflow.keras.models import Model\n",
    "from tensorflow.keras.layers import Input, Lambda, concatenate, Bidirectional, Dense, Dropout, Flatten, Conv1D,BatchNormalization,  MaxPooling1D, Bidirectional, GRU, TimeDistributed\n",
    "import tensorflow as tf\n",
    "from tensorflow import keras\n",
    "\n",
    "\n",
    "np.random.seed(1337) # for reproducibility\n",
    "vocab = [\"A\", \"G\", \"C\", \"T\"]\n",
    "indices = tf.range(len(vocab), dtype = tf.int64)\n",
    "table_init = tf.lookup.KeyValueTensorInitializer(vocab,indices)\n",
    "table = tf.lookup.StaticVocabularyTable(table_init, 1)\n",
    "defs = [0.] * 1 + [tf.constant([], dtype = \"string\")]\n",
    "\n",
    "# Nadav dataset\n",
    "\n",
    "\n",
    "def data_reader(file, batch_size=100, n_parse_threads = 4):\n",
    "    dataset = tf.data.TextLineDataset(file).skip(1)\n",
    "    dataset=dataset.map(preprocess, num_parallel_calls = n_parse_threads)\n",
    "    return dataset.batch(batch_size).prefetch(1)\n",
    "\n",
    "def preprocess(record):\n",
    "    fields = tf.io.decode_csv(record, record_defaults=defs)\n",
    "    chars = tf.strings.bytes_split(fields[1])\n",
    "    chars_indeces = table.lookup(chars)\n",
    "    X = tf.one_hot(chars_indeces, depth = len(vocab))\n",
    "    Y = fields[0]\n",
    "    return X,Y\n",
    "\n"
   ]
  },
  {
   "cell_type": "code",
   "execution_count": 3,
   "id": "be0250f3",
   "metadata": {},
   "outputs": [
    {
     "name": "stdout",
     "output_type": "stream",
     "text": [
      "Model: \"model_1\"\n",
      "_________________________________________________________________\n",
      " Layer (type)                Output Shape              Param #   \n",
      "=================================================================\n",
      " inputs (InputLayer)         [(None, 200, 4)]          0         \n",
      "                                                                 \n",
      " conv1 (Conv1D)              (None, 194, 250)          7250      \n",
      "                                                                 \n",
      " dropout_5 (Dropout)         (None, 194, 250)          0         \n",
      "                                                                 \n",
      " batch_normalization_4 (Bat  (None, 194, 250)          1000      \n",
      " chNormalization)                                                \n",
      "                                                                 \n",
      " conv2 (Conv1D)              (None, 187, 250)          500250    \n",
      "                                                                 \n",
      " batch_normalization_5 (Bat  (None, 187, 250)          1000      \n",
      " chNormalization)                                                \n",
      "                                                                 \n",
      " maxpool1 (MaxPooling1D)     (None, 93, 250)           0         \n",
      "                                                                 \n",
      " dropout_6 (Dropout)         (None, 93, 250)           0         \n",
      "                                                                 \n",
      " conv3 (Conv1D)              (None, 91, 250)           187750    \n",
      "                                                                 \n",
      " batch_normalization_6 (Bat  (None, 91, 250)           1000      \n",
      " chNormalization)                                                \n",
      "                                                                 \n",
      " dropout_7 (Dropout)         (None, 91, 250)           0         \n",
      "                                                                 \n",
      " conv4 (Conv1D)              (None, 90, 100)           50100     \n",
      "                                                                 \n",
      " batch_normalization_7 (Bat  (None, 90, 100)           400       \n",
      " chNormalization)                                                \n",
      "                                                                 \n",
      " maxpool2 (MaxPooling1D)     (None, 90, 100)           0         \n",
      "                                                                 \n",
      " dropout_8 (Dropout)         (None, 90, 100)           0         \n",
      "                                                                 \n",
      " flatten_1 (Flatten)         (None, 9000)              0         \n",
      "                                                                 \n",
      " dense_3 (Dense)             (None, 300)               2700300   \n",
      "                                                                 \n",
      " dropout_9 (Dropout)         (None, 300)               0         \n",
      "                                                                 \n",
      " dense_4 (Dense)             (None, 200)               60200     \n",
      "                                                                 \n",
      " dense_5 (Dense)             (None, 1)                 201       \n",
      "                                                                 \n",
      "=================================================================\n",
      "Total params: 3509451 (13.39 MB)\n",
      "Trainable params: 3507751 (13.38 MB)\n",
      "Non-trainable params: 1700 (6.64 KB)\n",
      "_________________________________________________________________\n",
      "Epoch 1/100\n",
      "    178/Unknown - 21s 90ms/step - loss: 0.2211 - mse: 0.2211 - mae: 0.3578 - mape: 19740.1387"
     ]
    },
    {
     "name": "stderr",
     "output_type": "stream",
     "text": [
      "2023-10-05 11:23:05.448100: I tensorflow/core/framework/local_rendezvous.cc:421] Local rendezvous recv item cancelled. Key hash: 11808208302586189840\n",
      "2023-10-05 11:23:05.448176: I tensorflow/core/framework/local_rendezvous.cc:421] Local rendezvous recv item cancelled. Key hash: 1737149325073813948\n"
     ]
    },
    {
     "name": "stdout",
     "output_type": "stream",
     "text": [
      "178/178 [==============================] - 23s 103ms/step - loss: 0.2211 - mse: 0.2211 - mae: 0.3578 - mape: 19740.1387 - val_loss: 0.2726 - val_mse: 0.2726 - val_mae: 0.4047 - val_mape: 16728.5488\n",
      "Epoch 2/100\n"
     ]
    },
    {
     "name": "stderr",
     "output_type": "stream",
     "text": [
      "2023-10-05 11:23:07.578117: I tensorflow/core/framework/local_rendezvous.cc:421] Local rendezvous recv item cancelled. Key hash: 11808208302586189840\n",
      "2023-10-05 11:23:07.578214: I tensorflow/core/framework/local_rendezvous.cc:421] Local rendezvous recv item cancelled. Key hash: 1737149325073813948\n"
     ]
    },
    {
     "name": "stdout",
     "output_type": "stream",
     "text": [
      "178/178 [==============================] - 17s 97ms/step - loss: 0.1541 - mse: 0.1541 - mae: 0.2999 - mape: 20253.4727 - val_loss: 0.2839 - val_mse: 0.2839 - val_mae: 0.3972 - val_mape: 155.8859\n",
      "Epoch 3/100\n",
      "178/178 [==============================] - 17s 96ms/step - loss: 0.1432 - mse: 0.1432 - mae: 0.2885 - mape: 21048.6348 - val_loss: 0.2922 - val_mse: 0.2922 - val_mae: 0.3949 - val_mape: 11644.9316\n",
      "Epoch 4/100\n",
      "178/178 [==============================] - 17s 96ms/step - loss: 0.1361 - mse: 0.1361 - mae: 0.2810 - mape: 17262.3359 - val_loss: 0.2098 - val_mse: 0.2098 - val_mae: 0.3377 - val_mape: 12972.1709\n",
      "Epoch 5/100\n",
      "178/178 [==============================] - 17s 96ms/step - loss: 0.1313 - mse: 0.1313 - mae: 0.2762 - mape: 17187.4883 - val_loss: 0.1434 - val_mse: 0.1434 - val_mae: 0.2819 - val_mape: 14047.7803\n",
      "Epoch 6/100\n",
      "178/178 [==============================] - 17s 94ms/step - loss: 0.1269 - mse: 0.1269 - mae: 0.2719 - mape: 13488.1484 - val_loss: 0.1236 - val_mse: 0.1236 - val_mae: 0.2644 - val_mape: 22892.2910\n",
      "Epoch 7/100\n",
      "178/178 [==============================] - 16s 91ms/step - loss: 0.1232 - mse: 0.1232 - mae: 0.2680 - mape: 16719.4629 - val_loss: 0.1235 - val_mse: 0.1235 - val_mae: 0.2633 - val_mape: 20945.5352\n",
      "Epoch 8/100\n",
      "178/178 [==============================] - 16s 91ms/step - loss: 0.1199 - mse: 0.1199 - mae: 0.2645 - mape: 15605.2188 - val_loss: 0.1206 - val_mse: 0.1206 - val_mae: 0.2637 - val_mape: 21011.0840\n",
      "Epoch 9/100\n",
      "178/178 [==============================] - 16s 91ms/step - loss: 0.1170 - mse: 0.1170 - mae: 0.2615 - mape: 10116.1328 - val_loss: 0.1188 - val_mse: 0.1188 - val_mae: 0.2606 - val_mape: 19780.9609\n",
      "Epoch 10/100\n",
      "178/178 [==============================] - 16s 91ms/step - loss: 0.1141 - mse: 0.1141 - mae: 0.2585 - mape: 14680.9971 - val_loss: 0.1212 - val_mse: 0.1212 - val_mae: 0.2639 - val_mape: 23271.4648\n",
      "Epoch 11/100\n",
      "178/178 [==============================] - 17s 94ms/step - loss: 0.1116 - mse: 0.1116 - mae: 0.2558 - mape: 16386.0840 - val_loss: 0.1211 - val_mse: 0.1211 - val_mae: 0.2610 - val_mape: 22448.6719\n",
      "Epoch 12/100\n",
      "178/178 [==============================] - 17s 94ms/step - loss: 0.1091 - mse: 0.1091 - mae: 0.2534 - mape: 17704.1191 - val_loss: 0.1212 - val_mse: 0.1212 - val_mae: 0.2604 - val_mape: 25591.7383\n",
      "Epoch 13/100\n",
      "178/178 [==============================] - 17s 96ms/step - loss: 0.1075 - mse: 0.1075 - mae: 0.2516 - mape: 16702.3984 - val_loss: 0.1326 - val_mse: 0.1326 - val_mae: 0.2692 - val_mape: 17949.5840\n",
      "Epoch 14/100\n",
      "178/178 [==============================] - 17s 97ms/step - loss: 0.1048 - mse: 0.1048 - mae: 0.2485 - mape: 17284.7734 - val_loss: 0.1210 - val_mse: 0.1210 - val_mae: 0.2599 - val_mape: 22343.8320\n",
      "Epoch 15/100\n",
      "178/178 [==============================] - 17s 96ms/step - loss: 0.1029 - mse: 0.1029 - mae: 0.2467 - mape: 13584.4229 - val_loss: 0.1207 - val_mse: 0.1207 - val_mae: 0.2596 - val_mape: 24726.7832\n",
      "Epoch 16/100\n",
      "178/178 [==============================] - 17s 97ms/step - loss: 0.1013 - mse: 0.1013 - mae: 0.2448 - mape: 18552.3418 - val_loss: 0.1207 - val_mse: 0.1207 - val_mae: 0.2598 - val_mape: 25716.5020\n",
      "Epoch 17/100\n",
      "178/178 [==============================] - 18s 98ms/step - loss: 0.0996 - mse: 0.0996 - mae: 0.2427 - mape: 15000.2314 - val_loss: 0.1279 - val_mse: 0.1279 - val_mae: 0.2641 - val_mape: 19737.5625\n",
      "Epoch 18/100\n",
      " 87/178 [=============>................] - ETA: 7s - loss: 0.0982 - mse: 0.0982 - mae: 0.2414 - mape: 10495.8037"
     ]
    }
   ],
   "source": [
    "input_path_train = \"/home/felix/cluster/fpacheco/Data/Nadav_lab/K562/mean_with_sequence_ENCFF616IAQ_2col_train.csv\"\n",
    "input_path_valid = '/home/felix/cluster/fpacheco/Data/Nadav_lab/K562/mean_with_sequence_ENCFF616IAQ_2col_test.csv'\n",
    "input_path_test = '/home/felix/cluster/fpacheco/Data/Nadav_lab/K562/mean_with_sequence_ENCFF616IAQ_2col_test.csv'\n",
    "\n",
    "# Get first item of the dataset to get the shape of the input data\n",
    "for element in data_reader(input_path_train):\n",
    "    input_shape = element[0].shape\n",
    "\n",
    "inputs = Input(shape=(input_shape[1],input_shape[2]), name=\"inputs\")\n",
    "layer = Conv1D(250, kernel_size=7, strides=1, activation='relu', name=\"conv1\")(inputs)  # 250 7 relu\n",
    "layer = Dropout(0.3)(layer)\n",
    "layer = BatchNormalization()(layer)\n",
    "layer = Conv1D(250, 8, strides=1, activation='softmax', name=\"conv2\")(layer)  # 250 8 softmax\n",
    "layer = BatchNormalization()(layer)\n",
    "layer = MaxPooling1D(pool_size=2, strides=None, name=\"maxpool1\")(layer)\n",
    "layer = Dropout(0.3)(layer)\n",
    "layer = Conv1D(250, 3, strides=1, activation='softmax', name=\"conv3\")(layer)  # 250 3 softmax\n",
    "layer = BatchNormalization()(layer)\n",
    "layer = Dropout(0.3)(layer)\n",
    "layer = Conv1D(100, 2, strides=1, activation='softmax', name=\"conv4\")(layer)  # 100 3 softmax\n",
    "layer = BatchNormalization()(layer)\n",
    "layer = MaxPooling1D(pool_size=1, strides=None, name=\"maxpool2\")(layer)\n",
    "layer = Dropout(0.3)(layer)\n",
    "layer = Flatten()(layer)\n",
    "layer = Dense(300, activation='sigmoid')(layer)  # 300\n",
    "layer = Dropout(0.3)(layer)\n",
    "layer = Dense(200, activation='sigmoid')(layer)  # 300\n",
    "predictions = Dense(1, activation='linear')(layer)\n",
    "\n",
    "model = Model(inputs=inputs, outputs=predictions)\n",
    "model.summary()\n",
    "\n",
    "model.compile(optimizer=\"adam\",\n",
    "              loss=\"mean_squared_error\",\n",
    "              metrics=[\"mse\", \"mae\", \"mape\"],\n",
    "              )\n",
    "\n",
    "history=model.fit(data_reader(input_path_train,batch_size=1024),\n",
    "                        epochs=100,\n",
    "                        validation_data=data_reader(input_path_valid,batch_size=100),\n",
    "                        callbacks=None,\n",
    "                        verbose=1)\n",
    "\n",
    "predicted = model.predict(data_reader(input_path_test,\n",
    "                                            batch_size=100))\n",
    "\n",
    "test_data = data_reader(input_path_test,batch_size=100)\n",
    "test_tensor = X = np.empty(shape=[0,1])\n",
    "for batch in test_data:\n",
    "    test_tensor = np.append(test_tensor, batch[1])\n",
    "\n",
    "import math\n",
    "def pearson_correlation(x, y):\n",
    "    n = len(x)\n",
    "    # Calculate the mean of x and y\n",
    "    mean_x = sum(x) / n\n",
    "    mean_y = sum(y) / n\n",
    "    \n",
    "    # Calculate the numerator and denominators of the correlation coefficient\n",
    "    numerator = sum((xi - mean_x) * (yi - mean_y) for xi, yi in zip(x, y))\n",
    "    denominator_x = math.sqrt(sum((xi - mean_x) ** 2 for xi in x))\n",
    "    denominator_y = math.sqrt(sum((yi - mean_y) ** 2 for yi in y))\n",
    "    \n",
    "    # Calculate the correlation coefficient\n",
    "    correlation = numerator / (denominator_x * denominator_y)\n",
    "    return correlation\n",
    "    \n",
    "corr_coefficient = pearson_correlation(predicted.flatten(), test_tensor)"
   ]
  },
  {
   "cell_type": "code",
   "execution_count": 40,
   "id": "9b903c3b",
   "metadata": {},
   "outputs": [
    {
     "data": {
      "image/png": "[encoded data removed]",
      "text/plain": [
       "<Figure size 640x480 with 1 Axes>"
      ]
     },
     "metadata": {},
     "output_type": "display_data"
    },
    {
     "data": {
      "text/plain": [
       "<Figure size 640x480 with 0 Axes>"
      ]
     },
     "metadata": {},
     "output_type": "display_data"
    }
   ],
   "source": [
    "import matplotlib.pyplot as plt\n",
    "%matplotlib inline\n",
    "def create_plots(history):\n",
    "    plt.plot(history.history['loss'])\n",
    "    plt.plot(history.history['val_loss'])\n",
    "    plt.title('model loss')\n",
    "    plt.ylabel('loss')\n",
    "    plt.xlabel('epoch')\n",
    "    plt.legend(['train', 'test'], loc='upper left')\n",
    "    plt.show()\n",
    "    plt.clf()\n",
    "    \n",
    "create_plots(history)"
   ]
  },
  {
   "cell_type": "code",
   "execution_count": 80,
   "id": "0dd865d9",
   "metadata": {},
   "outputs": [
    {
     "name": "stderr",
     "output_type": "stream",
     "text": [
      "`tf.keras.backend.set_learning_phase` is deprecated and will be removed after 2020-10-11. To update it, simply pass a True/False value to the `training` argument of the `__call__` method of your layer or model.\n"
     ]
    },
    {
     "ename": "StagingError",
     "evalue": "in user code:\n\n    File \"/home/felix/anaconda3/envs/tensorflow_2_gpu/lib/python3.9/site-packages/shap/explainers/_deep/deep_tf.py\", line 259, in grad_graph  *\n        x_grad = tape.gradient(out, shap_rAnD)\n\n    LookupError: gradient registry has no entry for: shap_AddV2\n",
     "output_type": "error",
     "traceback": [
      "\u001b[0;31m---------------------------------------------------------------------------\u001b[0m",
      "\u001b[0;31mStagingError\u001b[0m                              Traceback (most recent call last)",
      "\u001b[1;32m/home/felix/cluster/fpacheco/CNN_RNN/MPRA_prediction/regression/simple_regression.ipynb Cell 4\u001b[0m line \u001b[0;36m1\n\u001b[1;32m      <a href='vscode-notebook-cell:/home/felix/cluster/fpacheco/CNN_RNN/MPRA_prediction/regression/simple_regression.ipynb#X13sZmlsZQ%3D%3D?line=8'>9</a>\u001b[0m rn\u001b[39m=\u001b[39mnp\u001b[39m.\u001b[39mrandom\u001b[39m.\u001b[39mchoice([X,  X[:,::\u001b[39m-\u001b[39m\u001b[39m1\u001b[39m,::\u001b[39m-\u001b[39m\u001b[39m1\u001b[39m]][\u001b[39m0\u001b[39m]\u001b[39m.\u001b[39mshape[\u001b[39m0\u001b[39m], \u001b[39m1000\u001b[39m, replace\u001b[39m=\u001b[39m\u001b[39mFalse\u001b[39;00m)\n\u001b[1;32m     <a href='vscode-notebook-cell:/home/felix/cluster/fpacheco/CNN_RNN/MPRA_prediction/regression/simple_regression.ipynb#X13sZmlsZQ%3D%3D?line=9'>10</a>\u001b[0m explainer \u001b[39m=\u001b[39m shap\u001b[39m.\u001b[39mDeepExplainer((model\u001b[39m.\u001b[39minputs, model\u001b[39m.\u001b[39mlayers[\u001b[39m-\u001b[39m\u001b[39m1\u001b[39m]\u001b[39m.\u001b[39moutput), X[rn])\n\u001b[0;32m---> <a href='vscode-notebook-cell:/home/felix/cluster/fpacheco/CNN_RNN/MPRA_prediction/regression/simple_regression.ipynb#X13sZmlsZQ%3D%3D?line=10'>11</a>\u001b[0m explainer\u001b[39m.\u001b[39;49mshap_values(X[\u001b[39m0\u001b[39;49m:\u001b[39m10\u001b[39;49m], ranked_outputs\u001b[39m=\u001b[39;49m\u001b[39m1\u001b[39;49m)\n",
      "File \u001b[0;32m~/anaconda3/envs/tensorflow_2_gpu/lib/python3.9/site-packages/shap/explainers/_deep/__init__.py:124\u001b[0m, in \u001b[0;36mDeep.shap_values\u001b[0;34m(self, X, ranked_outputs, output_rank_order, check_additivity)\u001b[0m\n\u001b[1;32m     90\u001b[0m \u001b[39mdef\u001b[39;00m \u001b[39mshap_values\u001b[39m(\u001b[39mself\u001b[39m, X, ranked_outputs\u001b[39m=\u001b[39m\u001b[39mNone\u001b[39;00m, output_rank_order\u001b[39m=\u001b[39m\u001b[39m'\u001b[39m\u001b[39mmax\u001b[39m\u001b[39m'\u001b[39m, check_additivity\u001b[39m=\u001b[39m\u001b[39mTrue\u001b[39;00m):\n\u001b[1;32m     91\u001b[0m     \u001b[39m\"\"\" Return approximate SHAP values for the model applied to the data given by X.\u001b[39;00m\n\u001b[1;32m     92\u001b[0m \n\u001b[1;32m     93\u001b[0m \u001b[39m    Parameters\u001b[39;00m\n\u001b[0;32m   (...)\u001b[0m\n\u001b[1;32m    122\u001b[0m \u001b[39m        were chosen as \"top\".\u001b[39;00m\n\u001b[1;32m    123\u001b[0m \u001b[39m    \"\"\"\u001b[39;00m\n\u001b[0;32m--> 124\u001b[0m     \u001b[39mreturn\u001b[39;00m \u001b[39mself\u001b[39;49m\u001b[39m.\u001b[39;49mexplainer\u001b[39m.\u001b[39;49mshap_values(X, ranked_outputs, output_rank_order, check_additivity\u001b[39m=\u001b[39;49mcheck_additivity)\n",
      "File \u001b[0;32m~/anaconda3/envs/tensorflow_2_gpu/lib/python3.9/site-packages/shap/explainers/_deep/deep_tf.py:319\u001b[0m, in \u001b[0;36mTFDeep.shap_values\u001b[0;34m(self, X, ranked_outputs, output_rank_order, check_additivity)\u001b[0m\n\u001b[1;32m    317\u001b[0m \u001b[39m# run attribution computation graph\u001b[39;00m\n\u001b[1;32m    318\u001b[0m feature_ind \u001b[39m=\u001b[39m model_output_ranks[j,i]\n\u001b[0;32m--> 319\u001b[0m sample_phis \u001b[39m=\u001b[39m \u001b[39mself\u001b[39;49m\u001b[39m.\u001b[39;49mrun(\u001b[39mself\u001b[39;49m\u001b[39m.\u001b[39;49mphi_symbolic(feature_ind), \u001b[39mself\u001b[39;49m\u001b[39m.\u001b[39;49mmodel_inputs, joint_input)\n\u001b[1;32m    321\u001b[0m \u001b[39m# assign the attributions to the right part of the output arrays\u001b[39;00m\n\u001b[1;32m    322\u001b[0m \u001b[39mfor\u001b[39;00m l \u001b[39min\u001b[39;00m \u001b[39mrange\u001b[39m(\u001b[39mlen\u001b[39m(X)):\n",
      "File \u001b[0;32m~/anaconda3/envs/tensorflow_2_gpu/lib/python3.9/site-packages/shap/explainers/_deep/deep_tf.py:379\u001b[0m, in \u001b[0;36mTFDeep.run\u001b[0;34m(self, out, model_inputs, X)\u001b[0m\n\u001b[1;32m    376\u001b[0m         tf_execute\u001b[39m.\u001b[39mrecord_gradient \u001b[39m=\u001b[39m tf_backprop\u001b[39m.\u001b[39mrecord_gradient\n\u001b[1;32m    378\u001b[0m     \u001b[39mreturn\u001b[39;00m final_out\n\u001b[0;32m--> 379\u001b[0m \u001b[39mreturn\u001b[39;00m \u001b[39mself\u001b[39;49m\u001b[39m.\u001b[39;49mexecute_with_overridden_gradients(anon)\n",
      "File \u001b[0;32m~/anaconda3/envs/tensorflow_2_gpu/lib/python3.9/site-packages/shap/explainers/_deep/deep_tf.py:415\u001b[0m, in \u001b[0;36mTFDeep.execute_with_overridden_gradients\u001b[0;34m(self, f)\u001b[0m\n\u001b[1;32m    413\u001b[0m \u001b[39m# define the computation graph for the attribution values using a custom gradient-like computation\u001b[39;00m\n\u001b[1;32m    414\u001b[0m \u001b[39mtry\u001b[39;00m:\n\u001b[0;32m--> 415\u001b[0m     out \u001b[39m=\u001b[39m f()\n\u001b[1;32m    416\u001b[0m \u001b[39mfinally\u001b[39;00m:\n\u001b[1;32m    417\u001b[0m     \u001b[39m# reinstate the backpropagatable check\u001b[39;00m\n\u001b[1;32m    418\u001b[0m     \u001b[39mif\u001b[39;00m \u001b[39mhasattr\u001b[39m(tf_gradients_impl, \u001b[39m\"\u001b[39m\u001b[39m_IsBackpropagatable\u001b[39m\u001b[39m\"\u001b[39m):\n",
      "File \u001b[0;32m~/anaconda3/envs/tensorflow_2_gpu/lib/python3.9/site-packages/shap/explainers/_deep/deep_tf.py:372\u001b[0m, in \u001b[0;36mTFDeep.run.<locals>.anon\u001b[0;34m()\u001b[0m\n\u001b[1;32m    370\u001b[0m     v \u001b[39m=\u001b[39m tf\u001b[39m.\u001b[39mconstant(data, dtype\u001b[39m=\u001b[39m\u001b[39mself\u001b[39m\u001b[39m.\u001b[39mmodel_inputs[i]\u001b[39m.\u001b[39mdtype)\n\u001b[1;32m    371\u001b[0m     inputs\u001b[39m.\u001b[39mappend(v)\n\u001b[0;32m--> 372\u001b[0m final_out \u001b[39m=\u001b[39m out(inputs)\n\u001b[1;32m    373\u001b[0m \u001b[39mtry\u001b[39;00m:\n\u001b[1;32m    374\u001b[0m     tf_execute\u001b[39m.\u001b[39mrecord_gradient \u001b[39m=\u001b[39m tf_backprop\u001b[39m.\u001b[39m_record_gradient\n",
      "File \u001b[0;32m~/anaconda3/envs/tensorflow_2_gpu/lib/python3.9/site-packages/tensorflow/python/util/traceback_utils.py:153\u001b[0m, in \u001b[0;36mfilter_traceback.<locals>.error_handler\u001b[0;34m(*args, **kwargs)\u001b[0m\n\u001b[1;32m    151\u001b[0m \u001b[39mexcept\u001b[39;00m \u001b[39mException\u001b[39;00m \u001b[39mas\u001b[39;00m e:\n\u001b[1;32m    152\u001b[0m   filtered_tb \u001b[39m=\u001b[39m _process_traceback_frames(e\u001b[39m.\u001b[39m__traceback__)\n\u001b[0;32m--> 153\u001b[0m   \u001b[39mraise\u001b[39;00m e\u001b[39m.\u001b[39mwith_traceback(filtered_tb) \u001b[39mfrom\u001b[39;00m \u001b[39mNone\u001b[39m\n\u001b[1;32m    154\u001b[0m \u001b[39mfinally\u001b[39;00m:\n\u001b[1;32m    155\u001b[0m   \u001b[39mdel\u001b[39;00m filtered_tb\n",
      "File \u001b[0;32m~/anaconda3/envs/tensorflow_2_gpu/lib/python3.9/site-packages/tensorflow/python/eager/polymorphic_function/autograph_util.py:52\u001b[0m, in \u001b[0;36mpy_func_from_autograph.<locals>.autograph_handler\u001b[0;34m(*args, **kwargs)\u001b[0m\n\u001b[1;32m     50\u001b[0m \u001b[39mexcept\u001b[39;00m \u001b[39mException\u001b[39;00m \u001b[39mas\u001b[39;00m e:  \u001b[39m# pylint:disable=broad-except\u001b[39;00m\n\u001b[1;32m     51\u001b[0m   \u001b[39mif\u001b[39;00m \u001b[39mhasattr\u001b[39m(e, \u001b[39m\"\u001b[39m\u001b[39mag_error_metadata\u001b[39m\u001b[39m\"\u001b[39m):\n\u001b[0;32m---> 52\u001b[0m     \u001b[39mraise\u001b[39;00m e\u001b[39m.\u001b[39mag_error_metadata\u001b[39m.\u001b[39mto_exception(e)\n\u001b[1;32m     53\u001b[0m   \u001b[39melse\u001b[39;00m:\n\u001b[1;32m     54\u001b[0m     \u001b[39mraise\u001b[39;00m\n",
      "\u001b[0;31mStagingError\u001b[0m: in user code:\n\n    File \"/home/felix/anaconda3/envs/tensorflow_2_gpu/lib/python3.9/site-packages/shap/explainers/_deep/deep_tf.py\", line 259, in grad_graph  *\n        x_grad = tape.gradient(out, shap_rAnD)\n\n    LookupError: gradient registry has no entry for: shap_AddV2\n"
     ]
    }
   ],
   "source": [
    "#Read Data\n",
    "import shap\n",
    "_dataset = data_reader(\"/home/felix/cluster/fpacheco/Data/Nadav_lab/K562/mean_with_sequence_ENCFF616IAQ_2col_test.csv\", batch_size=2000)\n",
    "shuffled_dataset = _dataset.shuffle(5000)\n",
    "iterator = shuffled_dataset.as_numpy_iterator()\n",
    "random_sample = next(iterator)\n",
    "X = random_sample[0]\n",
    "\n",
    "rn=np.random.choice([X,  X[:,::-1,::-1]][0].shape[0], 1000, replace=False)\n",
    "explainer = shap.DeepExplainer((model.inputs, model.layers[-1].output), X[rn])\n",
    "explainer.shap_values(X[0:10], ranked_outputs=1)\n",
    "\n",
    "#shap_values_top, indexes = explainer.shap_values(X, ranked_outputs=1)"
   ]
  },
  {
   "cell_type": "code",
   "execution_count": 78,
   "id": "9d4d9541",
   "metadata": {},
   "outputs": [
    {
     "data": {
      "text/plain": [
       "(2000, 200, 4)"
      ]
     },
     "execution_count": 78,
     "metadata": {},
     "output_type": "execute_result"
    }
   ],
   "source": []
  },
  {
   "cell_type": "code",
   "execution_count": 69,
   "id": "06ce455b",
   "metadata": {},
   "outputs": [
    {
     "data": {
      "text/plain": [
       "array([ 823, 1430,   74,  744,  735,  469,  704,  944,  883,  923,   34,\n",
       "        218,  359,  367, 1444,  527,   89,  442, 1575,  863, 1639, 1948,\n",
       "       1172,  148, 1635, 1098,  856,  174,   81,  751, 1428, 1471, 1856,\n",
       "        876, 1805, 1518,  431,  319, 1079, 1205, 1015, 1850,  190, 1893,\n",
       "       1405, 1906, 1775,  292,  330, 1694,  978, 1659, 1364,  170,  654,\n",
       "        322,  562, 1020, 1337,   21, 1124,  648, 1779,  518,  982, 1335,\n",
       "        252,  220,  525,  164,  929,  820, 1606,  732,  619,  181,  132,\n",
       "       1561, 1576,  154, 1951, 1450,  212,  872,  215, 1665, 1074,  757,\n",
       "        585,  610, 1842, 1782, 1698,  375, 1674, 1045, 1454,  806, 1184,\n",
       "       1407, 1433, 1666,  600,  398,  238, 1469,  681,  163,   60, 1861,\n",
       "        981, 1241, 1866,  198,  115, 1918, 1660,  305, 1942,  104,  102,\n",
       "       1905, 1699, 1113, 1723,  946,   98, 1930,  912,  376,   99,  511,\n",
       "       1833, 1025,  812,  851,  512,  256,  601, 1120,    8,  182,  624,\n",
       "       1118,  315, 1526,  763,  484,  481, 1711,   65, 1811, 1195,  250,\n",
       "        995, 1367,  195, 1349, 1998,  131, 1876, 1483,  347, 1997,  371,\n",
       "       1018, 1991,  282, 1262, 1100, 1874, 1908, 1013,  534, 1570, 1142,\n",
       "       1242, 1403, 1820, 1604, 1902,  468,  273,  467, 1188, 1096, 1705,\n",
       "          1,  119, 1777, 1793, 1650, 1996,  620,  516,  583, 1680, 1718,\n",
       "        859,  716])"
      ]
     },
     "execution_count": 69,
     "metadata": {},
     "output_type": "execute_result"
    }
   ],
   "source": [
    "rn=np.random.choice([X,  X[:,::-1,::-1]][0].shape[0], 200, replace=False)\n",
    "rn"
   ]
  }
 ],
 "metadata": {
  "kernelspec": {
   "display_name": "Python 3",
   "language": "python",
   "name": "python3"
  },
  "language_info": {
   "codemirror_mode": {
    "name": "ipython",
    "version": 3
   },
   "file_extension": ".py",
   "mimetype": "text/x-python",
   "name": "python",
   "nbconvert_exporter": "python",
   "pygments_lexer": "ipython3",
   "version": "3.9.7"
  }
 },
 "nbformat": 4,
 "nbformat_minor": 5
}

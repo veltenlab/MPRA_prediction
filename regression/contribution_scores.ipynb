{
 "cells": [
  {
   "cell_type": "markdown",
   "id": "8ceba9d2",
   "metadata": {},
   "source": [
    "# MPRA interpretation using SHAP values to obtain contribution scores\n",
    "\n",
    "### Environment\n",
    "The next chunk contains the commands necessary to install the environment required to run this jupyter notebook\n",
    "Skip this chunk if the installation was previously done. The github repo contains a yml file with the environment."
   ]
  },
  {
   "cell_type": "code",
   "execution_count": 1,
   "id": "485be16d",
   "metadata": {},
   "outputs": [
    {
     "name": "stderr",
     "output_type": "stream",
     "text": [
      "bash: line 2: mamba: command not found\n",
      "bash: line 3: mamba: command not found\n",
      "bash: line 4: mamba: command not found\n",
      "bash: line 5: mamba: command not found\n",
      "bash: line 6: mamba: command not found\n",
      "bash: line 7: mamba: command not found\n"
     ]
    },
    {
     "ename": "CalledProcessError",
     "evalue": "Command 'b'\\nmamba create --name contribution_scores python=3.7\\nmamba activate contribution_scores\\nmamba install -c anaconda tensorflow-gpu=1.14.0\\nmamba install -c anaconda keras-gpu=2.2.4\\nmamba install shap=0.29.3\\nmamba install h5py=2.10.0\\n\\n# After installation if you are using VSCODE to run the notebook you have to close it and re-open\\n'' returned non-zero exit status 127.",
     "output_type": "error",
     "traceback": [
      "\u001b[0;31m---------------------------------------------------------------------------\u001b[0m",
      "\u001b[0;31mCalledProcessError\u001b[0m                        Traceback (most recent call last)",
      "\u001b[0;32m<ipython-input-1-b3aa67b333e2>\u001b[0m in \u001b[0;36m<module>\u001b[0;34m\u001b[0m\n\u001b[0;32m----> 1\u001b[0;31m \u001b[0mget_ipython\u001b[0m\u001b[0;34m(\u001b[0m\u001b[0;34m)\u001b[0m\u001b[0;34m.\u001b[0m\u001b[0mrun_cell_magic\u001b[0m\u001b[0;34m(\u001b[0m\u001b[0;34m'bash'\u001b[0m\u001b[0;34m,\u001b[0m \u001b[0;34m''\u001b[0m\u001b[0;34m,\u001b[0m \u001b[0;34m'\\nmamba create --name contribution_scores python=3.7\\nmamba activate contribution_scores\\nmamba install -c anaconda tensorflow-gpu=1.14.0\\nmamba install -c anaconda keras-gpu=2.2.4\\nmamba install shap=0.29.3\\nmamba install h5py=2.10.0\\n\\n# After installation if you are using VSCODE to run the notebook you have to close it and re-open\\n'\u001b[0m\u001b[0;34m)\u001b[0m\u001b[0;34m\u001b[0m\u001b[0;34m\u001b[0m\u001b[0m\n\u001b[0m",
      "\u001b[0;32m~/anaconda3/envs/DeepFlyBrain_conda_env_gpu/lib/python3.6/site-packages/IPython/core/interactiveshell.py\u001b[0m in \u001b[0;36mrun_cell_magic\u001b[0;34m(self, magic_name, line, cell)\u001b[0m\n\u001b[1;32m   2369\u001b[0m             \u001b[0;32mwith\u001b[0m \u001b[0mself\u001b[0m\u001b[0;34m.\u001b[0m\u001b[0mbuiltin_trap\u001b[0m\u001b[0;34m:\u001b[0m\u001b[0;34m\u001b[0m\u001b[0;34m\u001b[0m\u001b[0m\n\u001b[1;32m   2370\u001b[0m                 \u001b[0margs\u001b[0m \u001b[0;34m=\u001b[0m \u001b[0;34m(\u001b[0m\u001b[0mmagic_arg_s\u001b[0m\u001b[0;34m,\u001b[0m \u001b[0mcell\u001b[0m\u001b[0;34m)\u001b[0m\u001b[0;34m\u001b[0m\u001b[0;34m\u001b[0m\u001b[0m\n\u001b[0;32m-> 2371\u001b[0;31m                 \u001b[0mresult\u001b[0m \u001b[0;34m=\u001b[0m \u001b[0mfn\u001b[0m\u001b[0;34m(\u001b[0m\u001b[0;34m*\u001b[0m\u001b[0margs\u001b[0m\u001b[0;34m,\u001b[0m \u001b[0;34m**\u001b[0m\u001b[0mkwargs\u001b[0m\u001b[0;34m)\u001b[0m\u001b[0;34m\u001b[0m\u001b[0;34m\u001b[0m\u001b[0m\n\u001b[0m\u001b[1;32m   2372\u001b[0m             \u001b[0;32mreturn\u001b[0m \u001b[0mresult\u001b[0m\u001b[0;34m\u001b[0m\u001b[0;34m\u001b[0m\u001b[0m\n\u001b[1;32m   2373\u001b[0m \u001b[0;34m\u001b[0m\u001b[0m\n",
      "\u001b[0;32m~/anaconda3/envs/DeepFlyBrain_conda_env_gpu/lib/python3.6/site-packages/IPython/core/magics/script.py\u001b[0m in \u001b[0;36mnamed_script_magic\u001b[0;34m(line, cell)\u001b[0m\n\u001b[1;32m    140\u001b[0m             \u001b[0;32melse\u001b[0m\u001b[0;34m:\u001b[0m\u001b[0;34m\u001b[0m\u001b[0;34m\u001b[0m\u001b[0m\n\u001b[1;32m    141\u001b[0m                 \u001b[0mline\u001b[0m \u001b[0;34m=\u001b[0m \u001b[0mscript\u001b[0m\u001b[0;34m\u001b[0m\u001b[0;34m\u001b[0m\u001b[0m\n\u001b[0;32m--> 142\u001b[0;31m             \u001b[0;32mreturn\u001b[0m \u001b[0mself\u001b[0m\u001b[0;34m.\u001b[0m\u001b[0mshebang\u001b[0m\u001b[0;34m(\u001b[0m\u001b[0mline\u001b[0m\u001b[0;34m,\u001b[0m \u001b[0mcell\u001b[0m\u001b[0;34m)\u001b[0m\u001b[0;34m\u001b[0m\u001b[0;34m\u001b[0m\u001b[0m\n\u001b[0m\u001b[1;32m    143\u001b[0m \u001b[0;34m\u001b[0m\u001b[0m\n\u001b[1;32m    144\u001b[0m         \u001b[0;31m# write a basic docstring:\u001b[0m\u001b[0;34m\u001b[0m\u001b[0;34m\u001b[0m\u001b[0;34m\u001b[0m\u001b[0m\n",
      "\u001b[0;32m~/anaconda3/envs/DeepFlyBrain_conda_env_gpu/lib/python3.6/site-packages/decorator.py\u001b[0m in \u001b[0;36mfun\u001b[0;34m(*args, **kw)\u001b[0m\n\u001b[1;32m    230\u001b[0m             \u001b[0;32mif\u001b[0m \u001b[0;32mnot\u001b[0m \u001b[0mkwsyntax\u001b[0m\u001b[0;34m:\u001b[0m\u001b[0;34m\u001b[0m\u001b[0;34m\u001b[0m\u001b[0m\n\u001b[1;32m    231\u001b[0m                 \u001b[0margs\u001b[0m\u001b[0;34m,\u001b[0m \u001b[0mkw\u001b[0m \u001b[0;34m=\u001b[0m \u001b[0mfix\u001b[0m\u001b[0;34m(\u001b[0m\u001b[0margs\u001b[0m\u001b[0;34m,\u001b[0m \u001b[0mkw\u001b[0m\u001b[0;34m,\u001b[0m \u001b[0msig\u001b[0m\u001b[0;34m)\u001b[0m\u001b[0;34m\u001b[0m\u001b[0;34m\u001b[0m\u001b[0m\n\u001b[0;32m--> 232\u001b[0;31m             \u001b[0;32mreturn\u001b[0m \u001b[0mcaller\u001b[0m\u001b[0;34m(\u001b[0m\u001b[0mfunc\u001b[0m\u001b[0;34m,\u001b[0m \u001b[0;34m*\u001b[0m\u001b[0;34m(\u001b[0m\u001b[0mextras\u001b[0m \u001b[0;34m+\u001b[0m \u001b[0margs\u001b[0m\u001b[0;34m)\u001b[0m\u001b[0;34m,\u001b[0m \u001b[0;34m**\u001b[0m\u001b[0mkw\u001b[0m\u001b[0;34m)\u001b[0m\u001b[0;34m\u001b[0m\u001b[0;34m\u001b[0m\u001b[0m\n\u001b[0m\u001b[1;32m    233\u001b[0m     \u001b[0mfun\u001b[0m\u001b[0;34m.\u001b[0m\u001b[0m__name__\u001b[0m \u001b[0;34m=\u001b[0m \u001b[0mfunc\u001b[0m\u001b[0;34m.\u001b[0m\u001b[0m__name__\u001b[0m\u001b[0;34m\u001b[0m\u001b[0;34m\u001b[0m\u001b[0m\n\u001b[1;32m    234\u001b[0m     \u001b[0mfun\u001b[0m\u001b[0;34m.\u001b[0m\u001b[0m__doc__\u001b[0m \u001b[0;34m=\u001b[0m \u001b[0mfunc\u001b[0m\u001b[0;34m.\u001b[0m\u001b[0m__doc__\u001b[0m\u001b[0;34m\u001b[0m\u001b[0;34m\u001b[0m\u001b[0m\n",
      "\u001b[0;32m~/anaconda3/envs/DeepFlyBrain_conda_env_gpu/lib/python3.6/site-packages/IPython/core/magic.py\u001b[0m in \u001b[0;36m<lambda>\u001b[0;34m(f, *a, **k)\u001b[0m\n\u001b[1;32m    185\u001b[0m     \u001b[0;31m# but it's overkill for just that one bit of state.\u001b[0m\u001b[0;34m\u001b[0m\u001b[0;34m\u001b[0m\u001b[0;34m\u001b[0m\u001b[0m\n\u001b[1;32m    186\u001b[0m     \u001b[0;32mdef\u001b[0m \u001b[0mmagic_deco\u001b[0m\u001b[0;34m(\u001b[0m\u001b[0marg\u001b[0m\u001b[0;34m)\u001b[0m\u001b[0;34m:\u001b[0m\u001b[0;34m\u001b[0m\u001b[0;34m\u001b[0m\u001b[0m\n\u001b[0;32m--> 187\u001b[0;31m         \u001b[0mcall\u001b[0m \u001b[0;34m=\u001b[0m \u001b[0;32mlambda\u001b[0m \u001b[0mf\u001b[0m\u001b[0;34m,\u001b[0m \u001b[0;34m*\u001b[0m\u001b[0ma\u001b[0m\u001b[0;34m,\u001b[0m \u001b[0;34m**\u001b[0m\u001b[0mk\u001b[0m\u001b[0;34m:\u001b[0m \u001b[0mf\u001b[0m\u001b[0;34m(\u001b[0m\u001b[0;34m*\u001b[0m\u001b[0ma\u001b[0m\u001b[0;34m,\u001b[0m \u001b[0;34m**\u001b[0m\u001b[0mk\u001b[0m\u001b[0;34m)\u001b[0m\u001b[0;34m\u001b[0m\u001b[0;34m\u001b[0m\u001b[0m\n\u001b[0m\u001b[1;32m    188\u001b[0m \u001b[0;34m\u001b[0m\u001b[0m\n\u001b[1;32m    189\u001b[0m         \u001b[0;32mif\u001b[0m \u001b[0mcallable\u001b[0m\u001b[0;34m(\u001b[0m\u001b[0marg\u001b[0m\u001b[0;34m)\u001b[0m\u001b[0;34m:\u001b[0m\u001b[0;34m\u001b[0m\u001b[0;34m\u001b[0m\u001b[0m\n",
      "\u001b[0;32m~/anaconda3/envs/DeepFlyBrain_conda_env_gpu/lib/python3.6/site-packages/IPython/core/magics/script.py\u001b[0m in \u001b[0;36mshebang\u001b[0;34m(self, line, cell)\u001b[0m\n\u001b[1;32m    243\u001b[0m             \u001b[0msys\u001b[0m\u001b[0;34m.\u001b[0m\u001b[0mstderr\u001b[0m\u001b[0;34m.\u001b[0m\u001b[0mflush\u001b[0m\u001b[0;34m(\u001b[0m\u001b[0;34m)\u001b[0m\u001b[0;34m\u001b[0m\u001b[0;34m\u001b[0m\u001b[0m\n\u001b[1;32m    244\u001b[0m         \u001b[0;32mif\u001b[0m \u001b[0margs\u001b[0m\u001b[0;34m.\u001b[0m\u001b[0mraise_error\u001b[0m \u001b[0;32mand\u001b[0m \u001b[0mp\u001b[0m\u001b[0;34m.\u001b[0m\u001b[0mreturncode\u001b[0m\u001b[0;34m!=\u001b[0m\u001b[0;36m0\u001b[0m\u001b[0;34m:\u001b[0m\u001b[0;34m\u001b[0m\u001b[0;34m\u001b[0m\u001b[0m\n\u001b[0;32m--> 245\u001b[0;31m             \u001b[0;32mraise\u001b[0m \u001b[0mCalledProcessError\u001b[0m\u001b[0;34m(\u001b[0m\u001b[0mp\u001b[0m\u001b[0;34m.\u001b[0m\u001b[0mreturncode\u001b[0m\u001b[0;34m,\u001b[0m \u001b[0mcell\u001b[0m\u001b[0;34m,\u001b[0m \u001b[0moutput\u001b[0m\u001b[0;34m=\u001b[0m\u001b[0mout\u001b[0m\u001b[0;34m,\u001b[0m \u001b[0mstderr\u001b[0m\u001b[0;34m=\u001b[0m\u001b[0merr\u001b[0m\u001b[0;34m)\u001b[0m\u001b[0;34m\u001b[0m\u001b[0;34m\u001b[0m\u001b[0m\n\u001b[0m\u001b[1;32m    246\u001b[0m \u001b[0;34m\u001b[0m\u001b[0m\n\u001b[1;32m    247\u001b[0m     \u001b[0;32mdef\u001b[0m \u001b[0m_run_script\u001b[0m\u001b[0;34m(\u001b[0m\u001b[0mself\u001b[0m\u001b[0;34m,\u001b[0m \u001b[0mp\u001b[0m\u001b[0;34m,\u001b[0m \u001b[0mcell\u001b[0m\u001b[0;34m,\u001b[0m \u001b[0mto_close\u001b[0m\u001b[0;34m)\u001b[0m\u001b[0;34m:\u001b[0m\u001b[0;34m\u001b[0m\u001b[0;34m\u001b[0m\u001b[0m\n",
      "\u001b[0;31mCalledProcessError\u001b[0m: Command 'b'\\nmamba create --name contribution_scores python=3.7\\nmamba activate contribution_scores\\nmamba install -c anaconda tensorflow-gpu=1.14.0\\nmamba install -c anaconda keras-gpu=2.2.4\\nmamba install shap=0.29.3\\nmamba install h5py=2.10.0\\n\\n# After installation if you are using VSCODE to run the notebook you have to close it and re-open\\n'' returned non-zero exit status 127."
     ]
    }
   ],
   "source": [
    "%%bash\n",
    "\n",
    "mamba create --name contribution_scores python=3.7\n",
    "mamba activate contribution_scores\n",
    "mamba install -c anaconda tensorflow-gpu=1.14.0\n",
    "mamba install -c anaconda keras-gpu=2.2.4\n",
    "mamba install shap=0.29.3\n",
    "mamba install h5py=2.10.0\n",
    "\n",
    "# After installation if you are using VSCODE to run the notebook you have to close it and re-open"
   ]
  },
  {
   "cell_type": "markdown",
   "id": "a296a9a6",
   "metadata": {},
   "source": [
    "### Libraries"
   ]
  },
  {
   "cell_type": "code",
   "execution_count": 1,
   "id": "2c1f9e21",
   "metadata": {},
   "outputs": [
    {
     "name": "stderr",
     "output_type": "stream",
     "text": [
      "/home/felix/anaconda3/envs/DeepFlyBrain_conda_env_gpu/lib/python3.6/site-packages/tensorflow/python/framework/dtypes.py:516: FutureWarning: Passing (type, 1) or '1type' as a synonym of type is deprecated; in a future version of numpy, it will be understood as (type, (1,)) / '(1,)type'.\n",
      "  _np_qint8 = np.dtype([(\"qint8\", np.int8, 1)])\n",
      "/home/felix/anaconda3/envs/DeepFlyBrain_conda_env_gpu/lib/python3.6/site-packages/tensorflow/python/framework/dtypes.py:517: FutureWarning: Passing (type, 1) or '1type' as a synonym of type is deprecated; in a future version of numpy, it will be understood as (type, (1,)) / '(1,)type'.\n",
      "  _np_quint8 = np.dtype([(\"quint8\", np.uint8, 1)])\n",
      "/home/felix/anaconda3/envs/DeepFlyBrain_conda_env_gpu/lib/python3.6/site-packages/tensorflow/python/framework/dtypes.py:518: FutureWarning: Passing (type, 1) or '1type' as a synonym of type is deprecated; in a future version of numpy, it will be understood as (type, (1,)) / '(1,)type'.\n",
      "  _np_qint16 = np.dtype([(\"qint16\", np.int16, 1)])\n",
      "/home/felix/anaconda3/envs/DeepFlyBrain_conda_env_gpu/lib/python3.6/site-packages/tensorflow/python/framework/dtypes.py:519: FutureWarning: Passing (type, 1) or '1type' as a synonym of type is deprecated; in a future version of numpy, it will be understood as (type, (1,)) / '(1,)type'.\n",
      "  _np_quint16 = np.dtype([(\"quint16\", np.uint16, 1)])\n",
      "/home/felix/anaconda3/envs/DeepFlyBrain_conda_env_gpu/lib/python3.6/site-packages/tensorflow/python/framework/dtypes.py:520: FutureWarning: Passing (type, 1) or '1type' as a synonym of type is deprecated; in a future version of numpy, it will be understood as (type, (1,)) / '(1,)type'.\n",
      "  _np_qint32 = np.dtype([(\"qint32\", np.int32, 1)])\n",
      "/home/felix/anaconda3/envs/DeepFlyBrain_conda_env_gpu/lib/python3.6/site-packages/tensorflow/python/framework/dtypes.py:525: FutureWarning: Passing (type, 1) or '1type' as a synonym of type is deprecated; in a future version of numpy, it will be understood as (type, (1,)) / '(1,)type'.\n",
      "  np_resource = np.dtype([(\"resource\", np.ubyte, 1)])\n",
      "/home/felix/anaconda3/envs/DeepFlyBrain_conda_env_gpu/lib/python3.6/site-packages/tensorboard/compat/tensorflow_stub/dtypes.py:541: FutureWarning: Passing (type, 1) or '1type' as a synonym of type is deprecated; in a future version of numpy, it will be understood as (type, (1,)) / '(1,)type'.\n",
      "  _np_qint8 = np.dtype([(\"qint8\", np.int8, 1)])\n",
      "/home/felix/anaconda3/envs/DeepFlyBrain_conda_env_gpu/lib/python3.6/site-packages/tensorboard/compat/tensorflow_stub/dtypes.py:542: FutureWarning: Passing (type, 1) or '1type' as a synonym of type is deprecated; in a future version of numpy, it will be understood as (type, (1,)) / '(1,)type'.\n",
      "  _np_quint8 = np.dtype([(\"quint8\", np.uint8, 1)])\n",
      "/home/felix/anaconda3/envs/DeepFlyBrain_conda_env_gpu/lib/python3.6/site-packages/tensorboard/compat/tensorflow_stub/dtypes.py:543: FutureWarning: Passing (type, 1) or '1type' as a synonym of type is deprecated; in a future version of numpy, it will be understood as (type, (1,)) / '(1,)type'.\n",
      "  _np_qint16 = np.dtype([(\"qint16\", np.int16, 1)])\n",
      "/home/felix/anaconda3/envs/DeepFlyBrain_conda_env_gpu/lib/python3.6/site-packages/tensorboard/compat/tensorflow_stub/dtypes.py:544: FutureWarning: Passing (type, 1) or '1type' as a synonym of type is deprecated; in a future version of numpy, it will be understood as (type, (1,)) / '(1,)type'.\n",
      "  _np_quint16 = np.dtype([(\"quint16\", np.uint16, 1)])\n",
      "/home/felix/anaconda3/envs/DeepFlyBrain_conda_env_gpu/lib/python3.6/site-packages/tensorboard/compat/tensorflow_stub/dtypes.py:545: FutureWarning: Passing (type, 1) or '1type' as a synonym of type is deprecated; in a future version of numpy, it will be understood as (type, (1,)) / '(1,)type'.\n",
      "  _np_qint32 = np.dtype([(\"qint32\", np.int32, 1)])\n",
      "/home/felix/anaconda3/envs/DeepFlyBrain_conda_env_gpu/lib/python3.6/site-packages/tensorboard/compat/tensorflow_stub/dtypes.py:550: FutureWarning: Passing (type, 1) or '1type' as a synonym of type is deprecated; in a future version of numpy, it will be understood as (type, (1,)) / '(1,)type'.\n",
      "  np_resource = np.dtype([(\"resource\", np.ubyte, 1)])\n"
     ]
    }
   ],
   "source": [
    "import os \n",
    "import getopt\n",
    "import sys\n",
    "\n",
    "import numpy as np\n",
    "import h5py\n",
    "import pickle\n",
    "import random\n",
    "import copy\n",
    "import pandas as pd\n",
    "import math \n",
    "\n",
    "from tensorflow.keras.models import Model\n",
    "from tensorflow.keras.layers import Input, Layer, Dense, Dropout, Flatten, Conv1D,BatchNormalization,  MaxPooling1D\n",
    "import tensorflow as tf\n"
   ]
  },
  {
   "cell_type": "markdown",
   "id": "645cbb20",
   "metadata": {},
   "source": [
    "### One-hot-encoding\n",
    "\n",
    "We define the method for one-hot-encoding, here we are not using the dataset class so we define the one-hot-encoder method outside of the dataset tensorflow framework\n"
   ]
  },
  {
   "cell_type": "code",
   "execution_count": 2,
   "id": "89f9e7ca",
   "metadata": {},
   "outputs": [],
   "source": [
    "# Prepare input data for deep explainer\n",
    "df = pd.read_csv(\"/home/felix/cluster/fpacheco/Data/Robert_data/processed_data/LibA_wide_pivot_state3_with_id.csv\")\n",
    "\n",
    "# Function to one-hot encode a list of DNA sequences\n",
    "def one_hot_encode_sequences(sequences, vocab):\n",
    "    \"\"\"One hot encodes a sequence of characters\n",
    "\n",
    "    Args:\n",
    "        sequences (np.array): Input sequences \n",
    "        vocab (list): list of vocabulary characters\n",
    "\n",
    "    Returns:\n",
    "        (np.array): one-hot-encoded array\n",
    "    \"\"\"\n",
    "    num_sequences = len(sequences)\n",
    "    max_seq_length = max(len(seq) for seq in sequences)\n",
    "    encoding = np.zeros((num_sequences, max_seq_length, len(vocab)), dtype=int)\n",
    "\n",
    "    for i, sequence in enumerate(sequences):\n",
    "        for j, base in enumerate(sequence):\n",
    "            if base in vocab:\n",
    "                index = vocab.index(base)\n",
    "                encoding[i, j, index] = 1\n",
    "            else:\n",
    "                # Handle unexpected characters, e.g., if the sequence contains 'N' or others\n",
    "                pass\n",
    "\n",
    "    return encoding\n",
    "\n",
    "vocab = [\"A\", \"G\", \"C\", \"T\"]\n",
    "X = one_hot_encode_sequences(df.seq.values, vocab)\n",
    "y = df.State_3E.values\n",
    "ids = df.CRS.values"
   ]
  },
  {
   "cell_type": "markdown",
   "id": "57b09dec",
   "metadata": {},
   "source": [
    "### Model definition and loading of trained weights\n",
    "Since for DeepExplainer we need an older tensorflow version we define the model and then load the weights (we can't load the model entirely since it comes from a different tensorflow version )"
   ]
  },
  {
   "cell_type": "code",
   "execution_count": 3,
   "id": "700f0140",
   "metadata": {},
   "outputs": [
    {
     "name": "stdout",
     "output_type": "stream",
     "text": [
      "WARNING:tensorflow:From /home/felix/anaconda3/envs/DeepFlyBrain_conda_env_gpu/lib/python3.6/site-packages/tensorflow/python/ops/init_ops.py:1251: calling VarianceScaling.__init__ (from tensorflow.python.ops.init_ops) with dtype is deprecated and will be removed in a future version.\n",
      "Instructions for updating:\n",
      "Call initializer instance with the dtype argument instead of passing it to the constructor\n"
     ]
    },
    {
     "name": "stdout",
     "output_type": "stream",
     "text": [
      "WARNING:tensorflow:Entity <bound method CustomNormalization.call of <__main__.CustomNormalization object at 0x7f3f2e485be0>> could not be transformed and will be executed as-is. Please report this to the AutgoGraph team. When filing the bug, set the verbosity to 10 (on Linux, `export AUTOGRAPH_VERBOSITY=10`) and attach the full output. Cause: Name constructor takes either 0 or 4 mandatory arguments\n",
      "WARNING: Entity <bound method CustomNormalization.call of <__main__.CustomNormalization object at 0x7f3f2e485be0>> could not be transformed and will be executed as-is. Please report this to the AutgoGraph team. When filing the bug, set the verbosity to 10 (on Linux, `export AUTOGRAPH_VERBOSITY=10`) and attach the full output. Cause: Name constructor takes either 0 or 4 mandatory arguments\n"
     ]
    }
   ],
   "source": [
    "class CustomNormalization(Layer):\n",
    "    def __init__(self, **kwargs):\n",
    "        super(CustomNormalization, self).__init__(**kwargs)\n",
    "        \n",
    "    def build(self, input_shape):\n",
    "        # Add trainable variables for mean and standard deviation\n",
    "        self.mean = self.add_weight(\"mean\", shape=(1,), initializer=\"zeros\", trainable=True)\n",
    "        self.stddev = self.add_weight(\"stddev\", shape=(1,), initializer=\"ones\", trainable=True)\n",
    "        super(CustomNormalization, self).build(input_shape)  # Be sure to call this at the end\n",
    "\n",
    "    def call(self, inputs):\n",
    "        # Normalize the inputs using the learned mean and standard deviation\n",
    "        return (inputs - self.mean) / (self.stddev + 1e-8)\n",
    "\n",
    "\n",
    "inputs = Input(shape=(X.shape[1],X.shape[2]), name=\"inputs\")\n",
    "layer = Conv1D(250, kernel_size=7, strides=1, activation='relu', name=\"conv1\")(inputs)  # 250 7 relu\n",
    "layer = Dropout(0.3)(layer)\n",
    "layer = BatchNormalization()(layer)\n",
    "layer = Conv1D(250, 8, strides=1, activation='softmax', name=\"conv2\")(layer)  # 250 8 softmax\n",
    "layer = BatchNormalization()(layer)\n",
    "layer = MaxPooling1D(pool_size=2, strides=None, name=\"maxpool1\")(layer)\n",
    "layer = Dropout(0.3)(layer)\n",
    "layer = Conv1D(250, 3, strides=1, activation='softmax', name=\"conv3\")(layer)  # 250 3 softmax\n",
    "layer = BatchNormalization()(layer)\n",
    "layer = Dropout(0.3)(layer)\n",
    "layer = Conv1D(100, 2, strides=1, activation='softmax', name=\"conv4\")(layer)  # 100 3 softmax\n",
    "layer = BatchNormalization()(layer)\n",
    "layer = MaxPooling1D(pool_size=1, strides=None, name=\"maxpool2\")(layer)\n",
    "layer = Dropout(0.3)(layer)\n",
    "layer = Flatten()(layer)\n",
    "layer = Dense(300, activation='sigmoid')(layer)  # 300\n",
    "layer = Dropout(0.3)(layer)\n",
    "layer = Dense(200, activation='sigmoid')(layer)  # 300\n",
    "predictions = Dense(1, activation='linear')(layer)\n",
    "norm_predictions = CustomNormalization()(predictions)  # Assuming \"predictions\" is your existing output\n",
    "model = Model(inputs=inputs, outputs=norm_predictions)\n",
    "\n",
    "model.load_weights(\"/home/felix/cluster/fpacheco/Data/Robert_data/processed_data/10fold_cv/Model_CV1_LibA_wide_pivot_state3.h5\")"
   ]
  },
  {
   "cell_type": "markdown",
   "id": "fe3dde27",
   "metadata": {},
   "source": [
    "### Plotting methods"
   ]
  },
  {
   "cell_type": "code",
   "execution_count": 4,
   "id": "80f8e837",
   "metadata": {},
   "outputs": [],
   "source": [
    "import matplotlib \n",
    "\n",
    "def plot_a(ax, base, left_edge, height, color):\n",
    "    a_polygon_coords = [\n",
    "        np.array([\n",
    "           [0.0, 0.0],\n",
    "           [0.5, 1.0],\n",
    "           [0.5, 0.8],\n",
    "           [0.2, 0.0],\n",
    "        ]),\n",
    "        np.array([\n",
    "           [1.0, 0.0],\n",
    "           [0.5, 1.0],\n",
    "           [0.5, 0.8],\n",
    "           [0.8, 0.0],\n",
    "        ]),\n",
    "        np.array([\n",
    "           [0.225, 0.45],\n",
    "           [0.775, 0.45],\n",
    "           [0.85, 0.3],\n",
    "           [0.15, 0.3],\n",
    "        ])\n",
    "    ]\n",
    "    for polygon_coords in a_polygon_coords:\n",
    "        ax.add_patch(matplotlib.patches.Polygon((np.array([1,height])[None,:]*polygon_coords\n",
    "                                                 + np.array([left_edge,base])[None,:]),\n",
    "                                                facecolor=color, edgecolor=color))\n",
    "\n",
    "def plot_c(ax, base, left_edge, height, color):\n",
    "    ax.add_patch(matplotlib.patches.Ellipse(xy=[left_edge+0.65, base+0.5*height], width=1.3, height=height,\n",
    "                                            facecolor=color, edgecolor=color))\n",
    "    ax.add_patch(matplotlib.patches.Ellipse(xy=[left_edge+0.65, base+0.5*height], width=0.7*1.3, height=0.7*height,\n",
    "                                            facecolor='white', edgecolor='white'))\n",
    "    ax.add_patch(matplotlib.patches.Rectangle(xy=[left_edge+1, base], width=1.0, height=height,\n",
    "                                            facecolor='white', edgecolor='white', fill=True))\n",
    "\n",
    "def plot_g(ax, base, left_edge, height, color):\n",
    "    ax.add_patch(matplotlib.patches.Ellipse(xy=[left_edge+0.65, base+0.5*height], width=1.3, height=height,\n",
    "                                            facecolor=color, edgecolor=color))\n",
    "    ax.add_patch(matplotlib.patches.Ellipse(xy=[left_edge+0.65, base+0.5*height], width=0.7*1.3, height=0.7*height,\n",
    "                                            facecolor='white', edgecolor='white'))\n",
    "    ax.add_patch(matplotlib.patches.Rectangle(xy=[left_edge+1, base], width=1.0, height=height,\n",
    "                                            facecolor='white', edgecolor='white', fill=True))\n",
    "    ax.add_patch(matplotlib.patches.Rectangle(xy=[left_edge+0.825, base+0.085*height], width=0.174, height=0.415*height,\n",
    "                                            facecolor=color, edgecolor=color, fill=True))\n",
    "    ax.add_patch(matplotlib.patches.Rectangle(xy=[left_edge+0.625, base+0.35*height], width=0.374, height=0.15*height,\n",
    "                                            facecolor=color, edgecolor=color, fill=True))\n",
    "\n",
    "def plot_t(ax, base, left_edge, height, color):\n",
    "    ax.add_patch(matplotlib.patches.Rectangle(xy=[left_edge+0.4, base],\n",
    "                  width=0.2, height=height, facecolor=color, edgecolor=color, fill=True))\n",
    "    ax.add_patch(matplotlib.patches.Rectangle(xy=[left_edge, base+0.8*height],\n",
    "                  width=1.0, height=0.2*height, facecolor=color, edgecolor=color, fill=True))\n",
    "\n",
    "default_colors = {0:'green', 1:'blue', 2:'orange', 3:'red'}\n",
    "default_plot_funcs = {0: plot_a, 2: plot_g, 1: plot_c, 3: plot_t}\n",
    "\n",
    "default_colors = {0:'green', 1:'blue', 2:'orange', 3:'red'}\n",
    "default_plot_funcs = {0: plot_a, 2: plot_g, 1: plot_c, 3: plot_t}\n",
    "\n",
    "\n",
    "def plot_weights_given_ax(ax, array,\n",
    "                 height_padding_factor,\n",
    "                 length_padding,\n",
    "                 subticks_frequency,\n",
    "                 highlight,\n",
    "                 colors=default_colors,\n",
    "                 plot_funcs=default_plot_funcs):\n",
    "    if len(array.shape)==3:\n",
    "        array = np.squeeze(array)\n",
    "    assert len(array.shape)==2, array.shape\n",
    "    if (array.shape[0]==4 and array.shape[1] != 4):\n",
    "        array = array.transpose(1,0)\n",
    "    assert array.shape[1]==4\n",
    "    max_pos_height = 0.0\n",
    "    min_neg_height = 0.0\n",
    "    heights_at_positions = []\n",
    "    depths_at_positions = []\n",
    "    for i in range(array.shape[0]):\n",
    "        acgt_vals = sorted(enumerate(array[i,:]), key=lambda x: abs(x[1]))\n",
    "        positive_height_so_far = 0.0\n",
    "        negative_height_so_far = 0.0\n",
    "        for letter in acgt_vals:\n",
    "            plot_func = plot_funcs[letter[0]]\n",
    "            color=colors[letter[0]]\n",
    "            if (letter[1] > 0):\n",
    "                height_so_far = positive_height_so_far\n",
    "                positive_height_so_far += letter[1]                \n",
    "            else:\n",
    "                height_so_far = negative_height_so_far\n",
    "                negative_height_so_far += letter[1]\n",
    "            plot_func(ax=ax, base=height_so_far, left_edge=i, height=letter[1], color=color)\n",
    "        max_pos_height = max(max_pos_height, positive_height_so_far)\n",
    "        min_neg_height = min(min_neg_height, negative_height_so_far)\n",
    "        heights_at_positions.append(positive_height_so_far)\n",
    "        depths_at_positions.append(negative_height_so_far)\n",
    "    for color in highlight:\n",
    "        for start_pos, end_pos in highlight[color]:\n",
    "            assert start_pos >= 0.0 and end_pos <= array.shape[0]\n",
    "            min_depth = np.min(depths_at_positions[start_pos:end_pos])\n",
    "            max_height = np.max(heights_at_positions[start_pos:end_pos])\n",
    "            ax.add_patch(\n",
    "                matplotlib.patches.Rectangle(xy=[start_pos,min_depth],\n",
    "                    width=end_pos-start_pos,\n",
    "                    height=max_height-min_depth,\n",
    "                    edgecolor=color, fill=False))\n",
    "            \n",
    "    ax.set_xlim(-length_padding, array.shape[0]+length_padding)\n",
    "    ax.xaxis.set_ticks(np.arange(0.0, array.shape[0]+1, subticks_frequency))\n",
    "    height_padding = max(abs(min_neg_height)*(height_padding_factor),\n",
    "                         abs(max_pos_height)*(height_padding_factor))\n",
    "    ax.set_ylim(min_neg_height-height_padding, max_pos_height+height_padding)\n",
    "    return ax\n",
    "\n",
    "def plot_weights_modified(array, fig, n,n1,n2, title='', ylab='',\n",
    "                              figsize=(20,2),\n",
    "                 height_padding_factor=0.2,\n",
    "                 length_padding=1.0,\n",
    "                 subticks_frequency=20,\n",
    "                 colors=default_colors,\n",
    "                 plot_funcs=default_plot_funcs,\n",
    "                 highlight={}):\n",
    "    ax = fig.add_subplot(n,n1,n2) \n",
    "    ax.set_title(title)\n",
    "    ax.set_ylabel(ylab)\n",
    "    y = plot_weights_given_ax(ax=ax, array=array,\n",
    "        height_padding_factor=height_padding_factor,\n",
    "        length_padding=length_padding,\n",
    "        subticks_frequency=subticks_frequency,\n",
    "        colors=colors,\n",
    "        plot_funcs=plot_funcs,\n",
    "        highlight=highlight)\n",
    "    return fig,ax\n"
   ]
  },
  {
   "cell_type": "markdown",
   "id": "f9712e37",
   "metadata": {},
   "source": [
    "### Initialize Deep Explainer\n",
    "\n",
    "Deep explainer is an approximation of shap values, the output prediction is decomposed by backpropagating the contributions of all networks to every input feature."
   ]
  },
  {
   "cell_type": "code",
   "execution_count": 5,
   "id": "fb1e6a2f",
   "metadata": {},
   "outputs": [
    {
     "name": "stderr",
     "output_type": "stream",
     "text": [
      "In /home/felix/anaconda3/envs/DeepFlyBrain_conda_env_gpu/lib/python3.6/site-packages/matplotlib/mpl-data/stylelib/_classic_test.mplstyle: \n",
      "The text.latex.preview rcparam was deprecated in Matplotlib 3.3 and will be removed two minor releases later.\n",
      "In /home/felix/anaconda3/envs/DeepFlyBrain_conda_env_gpu/lib/python3.6/site-packages/matplotlib/mpl-data/stylelib/_classic_test.mplstyle: \n",
      "The mathtext.fallback_to_cm rcparam was deprecated in Matplotlib 3.3 and will be removed two minor releases later.\n",
      "In /home/felix/anaconda3/envs/DeepFlyBrain_conda_env_gpu/lib/python3.6/site-packages/matplotlib/mpl-data/stylelib/_classic_test.mplstyle: Support for setting the 'mathtext.fallback_to_cm' rcParam is deprecated since 3.3 and will be removed two minor releases later; use 'mathtext.fallback : 'cm' instead.\n",
      "In /home/felix/anaconda3/envs/DeepFlyBrain_conda_env_gpu/lib/python3.6/site-packages/matplotlib/mpl-data/stylelib/_classic_test.mplstyle: \n",
      "The validate_bool_maybe_none function was deprecated in Matplotlib 3.3 and will be removed two minor releases later.\n",
      "In /home/felix/anaconda3/envs/DeepFlyBrain_conda_env_gpu/lib/python3.6/site-packages/matplotlib/mpl-data/stylelib/_classic_test.mplstyle: \n",
      "The savefig.jpeg_quality rcparam was deprecated in Matplotlib 3.3 and will be removed two minor releases later.\n",
      "In /home/felix/anaconda3/envs/DeepFlyBrain_conda_env_gpu/lib/python3.6/site-packages/matplotlib/mpl-data/stylelib/_classic_test.mplstyle: \n",
      "The keymap.all_axes rcparam was deprecated in Matplotlib 3.3 and will be removed two minor releases later.\n",
      "In /home/felix/anaconda3/envs/DeepFlyBrain_conda_env_gpu/lib/python3.6/site-packages/matplotlib/mpl-data/stylelib/_classic_test.mplstyle: \n",
      "The animation.avconv_path rcparam was deprecated in Matplotlib 3.3 and will be removed two minor releases later.\n",
      "In /home/felix/anaconda3/envs/DeepFlyBrain_conda_env_gpu/lib/python3.6/site-packages/matplotlib/mpl-data/stylelib/_classic_test.mplstyle: \n",
      "The animation.avconv_args rcparam was deprecated in Matplotlib 3.3 and will be removed two minor releases later.\n"
     ]
    },
    {
     "name": "stdout",
     "output_type": "stream",
     "text": [
      "WARNING:tensorflow:From /home/felix/anaconda3/envs/DeepFlyBrain_conda_env_gpu/lib/python3.6/site-packages/shap/explainers/deep/deep_tf.py:118: The name tf.keras.backend.get_session is deprecated. Please use tf.compat.v1.keras.backend.get_session instead.\n",
      "\n"
     ]
    },
    {
     "name": "stderr",
     "output_type": "stream",
     "text": [
      "Using TensorFlow backend.\n"
     ]
    }
   ],
   "source": [
    "import shap\n",
    "\n",
    "rn=np.random.choice([X,  X[:,::-1,::-1]][0].shape[0], 1000, replace=False)\n",
    "explainer = shap.DeepExplainer((model.inputs, model.layers[-1].output), X[rn])\n",
    "\n",
    "if os.path.exists(\"/home/felix/cluster/fpacheco/Data/Robert_data/processed_data/10fold_cv/deep_explainer/\") is False:\n",
    "    os.mkdir(\"/home/felix/cluster/fpacheco/Data/Robert_data/processed_data/10fold_cv/deep_explainer/\")"
   ]
  },
  {
   "cell_type": "code",
   "execution_count": 6,
   "id": "6509087f",
   "metadata": {},
   "outputs": [
    {
     "name": "stdout",
     "output_type": "stream",
     "text": [
      "WARNING:tensorflow:From /home/felix/anaconda3/envs/DeepFlyBrain_conda_env_gpu/lib/python3.6/site-packages/shap/explainers/deep/deep_tf.py:458: add_dispatch_support.<locals>.wrapper (from tensorflow.python.ops.array_ops) is deprecated and will be removed in a future version.\n",
      "Instructions for updating:\n",
      "Use tf.where in 2.0, which has the same broadcast rule as np.where\n"
     ]
    }
   ],
   "source": [
    "import matplotlib.pyplot as plt\n",
    "\n",
    "# Compute shap values\n",
    "shap_values, indexes = explainer.shap_values(X, ranked_outputs=1)"
   ]
  },
  {
   "cell_type": "code",
   "execution_count": 7,
   "id": "63f29633",
   "metadata": {},
   "outputs": [
    {
     "name": "stderr",
     "output_type": "stream",
     "text": [
      "/home/felix/anaconda3/envs/DeepFlyBrain_conda_env_gpu/lib/python3.6/site-packages/ipykernel_launcher.py:112: UserWarning: Attempting to set identical bottom == top == 0.0 results in singular transformations; automatically expanding.\n"
     ]
    },
    {
     "ename": "",
     "evalue": "",
     "output_type": "error",
     "traceback": [
      "\u001b[1;31mThe Kernel crashed while executing code in the the current cell or a previous cell. Please review the code in the cell(s) to identify a possible cause of the failure. Click <a href='https://aka.ms/vscodeJupyterKernelCrash'>here</a> for more info. View Jupyter <a href='command:jupyter.viewOutput'>log</a> for further details."
     ]
    }
   ],
   "source": [
    "# Plot for each observation\n",
    "for i in range(0, X.shape[0]):\n",
    "    ntrack=2\n",
    "    fig = plt.figure(figsize=(80,10))\n",
    "    _, ax1 =plot_weights_modified(shap_values[0][i]*X[i],fig,ntrack,1,1,title=i, subticks_frequency=10,ylab=\"DeepExplainer\")\n",
    "\n",
    "    plt.savefig(\"/home/felix/cluster/fpacheco/Data/Robert_data/processed_data/10fold_cv/deep_explainer/\"+ids[i] +'_deep_explainer.png')\n",
    "    plt.close('all')\n"
   ]
  }
 ],
 "metadata": {
  "kernelspec": {
   "display_name": "Python 3",
   "language": "python",
   "name": "python3"
  },
  "language_info": {
   "codemirror_mode": {
    "name": "ipython",
    "version": 3
   },
   "file_extension": ".py",
   "mimetype": "text/x-python",
   "name": "python",
   "nbconvert_exporter": "python",
   "pygments_lexer": "ipython3",
   "version": "3.6.13"
  }
 },
 "nbformat": 4,
 "nbformat_minor": 5
}
